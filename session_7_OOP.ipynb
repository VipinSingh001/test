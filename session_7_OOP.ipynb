{
 "cells": [
  {
   "cell_type": "code",
   "execution_count": null,
   "metadata": {
    "colab": {
     "base_uri": "https://localhost:8080/",
     "height": 205
    },
    "id": "3rwuRliDnX7y",
    "outputId": "6115092b-d6f7-4ef3-91fc-4d46ca119b09"
   },
   "outputs": [
    {
     "ename": "AttributeError",
     "evalue": "ignored",
     "output_type": "error",
     "traceback": [
      "\u001b[0;31m---------------------------------------------------------------------------\u001b[0m",
      "\u001b[0;31mAttributeError\u001b[0m                            Traceback (most recent call last)",
      "\u001b[0;32m<ipython-input-1-af1f83522ab7>\u001b[0m in \u001b[0;36m<module>\u001b[0;34m\u001b[0m\n\u001b[1;32m      1\u001b[0m \u001b[0mL\u001b[0m \u001b[0;34m=\u001b[0m \u001b[0;34m[\u001b[0m\u001b[0;36m1\u001b[0m\u001b[0;34m,\u001b[0m\u001b[0;36m2\u001b[0m\u001b[0;34m,\u001b[0m\u001b[0;36m3\u001b[0m\u001b[0;34m]\u001b[0m\u001b[0;34m\u001b[0m\u001b[0;34m\u001b[0m\u001b[0m\n\u001b[1;32m      2\u001b[0m \u001b[0;34m\u001b[0m\u001b[0m\n\u001b[0;32m----> 3\u001b[0;31m \u001b[0mL\u001b[0m\u001b[0;34m.\u001b[0m\u001b[0mupper\u001b[0m\u001b[0;34m(\u001b[0m\u001b[0;34m)\u001b[0m\u001b[0;34m\u001b[0m\u001b[0;34m\u001b[0m\u001b[0m\n\u001b[0m",
      "\u001b[0;31mAttributeError\u001b[0m: 'list' object has no attribute 'upper'"
     ]
    }
   ],
   "source": [
    "L = [1,2,3] \n",
    "\n",
    "L.upper() # upper is not funcion of list # function of string\n",
    "#upper is fun while L variable is object of class list\n",
    "\n",
    "# oop is the way of writing of code to create own data types according to its requirement\n",
    "# oop - object , class , abstration, polymorphism, encapsulation, inheritance\n",
    "# list,tuple,dict etc are the classes while when you create a variable consider as object\n",
    "# in above example list is class while L variable is object\n",
    " \n",
    "\n",
    "# class is set of rules that describe how its object behave or work\n",
    "# class is blueprint of object\n",
    "# when you create any variable is object\n",
    "\n",
    "\n",
    "# class - Data + function or behavior\n",
    "# object - instance of class\n",
    "# object_name = class_name() # syntax to create an object\n",
    "# Pascal case -  VipinSingh - every word starts with capital letter\n",
    "\n",
    "\n"
   ]
  },
  {
   "cell_type": "code",
   "execution_count": null,
   "metadata": {
    "colab": {
     "base_uri": "https://localhost:8080/",
     "height": 187
    },
    "id": "96Kwr6nLnyDM",
    "outputId": "9845bb6f-e342-4054-d1ca-bb790b8da96d"
   },
   "outputs": [
    {
     "ename": "AttributeError",
     "evalue": "ignored",
     "output_type": "error",
     "traceback": [
      "\u001b[0;31m---------------------------------------------------------------------------\u001b[0m",
      "\u001b[0;31mAttributeError\u001b[0m                            Traceback (most recent call last)",
      "\u001b[0;32m<ipython-input-2-2cb7c5babec0>\u001b[0m in \u001b[0;36m<module>\u001b[0;34m\u001b[0m\n\u001b[1;32m      1\u001b[0m \u001b[0ms\u001b[0m \u001b[0;34m=\u001b[0m \u001b[0;34m'hello'\u001b[0m\u001b[0;34m\u001b[0m\u001b[0;34m\u001b[0m\u001b[0m\n\u001b[0;32m----> 2\u001b[0;31m \u001b[0ms\u001b[0m\u001b[0;34m.\u001b[0m\u001b[0mappend\u001b[0m\u001b[0;34m(\u001b[0m\u001b[0;34m'x'\u001b[0m\u001b[0;34m)\u001b[0m\u001b[0;34m\u001b[0m\u001b[0;34m\u001b[0m\u001b[0m\n\u001b[0m",
      "\u001b[0;31mAttributeError\u001b[0m: 'str' object has no attribute 'append'"
     ]
    }
   ],
   "source": [
    "s = 'hello'\n",
    "s.append('x')\n"
   ]
  },
  {
   "cell_type": "code",
   "execution_count": null,
   "metadata": {
    "colab": {
     "base_uri": "https://localhost:8080/"
    },
    "id": "mmHow1wwn9TG",
    "outputId": "ab6a35e4-e395-4fe2-f9fb-b236eefc3526"
   },
   "outputs": [
    {
     "name": "stdout",
     "output_type": "stream",
     "text": [
      "<class 'list'>\n"
     ]
    }
   ],
   "source": [
    "L = [1,2,3]\n",
    "print(type(L))"
   ]
  },
  {
   "cell_type": "code",
   "execution_count": 2,
   "metadata": {
    "id": "UrQCJI-xqkyX"
   },
   "outputs": [],
   "source": [
    "# class types - built-in(list,int,dict) and user defined\n",
    "# syntax to create an object\n",
    "\n",
    "#objectname = classname()\n",
    "# without creating a object you can not access the member or variable of class"
   ]
  },
  {
   "cell_type": "code",
   "execution_count": 3,
   "metadata": {
    "id": "BE1pbysesWlD"
   },
   "outputs": [],
   "source": [
    "# object literal\n",
    "L = [1,2,3]"
   ]
  },
  {
   "cell_type": "code",
   "execution_count": 4,
   "metadata": {
    "colab": {
     "base_uri": "https://localhost:8080/"
    },
    "id": "EuMPro8hsbB3",
    "outputId": "aad19e46-44ad-4b86-86b2-ded54a6a4a29"
   },
   "outputs": [
    {
     "data": {
      "text/plain": [
       "[]"
      ]
     },
     "execution_count": 4,
     "metadata": {},
     "output_type": "execute_result"
    }
   ],
   "source": [
    "L = list()\n",
    "L"
   ]
  },
  {
   "cell_type": "code",
   "execution_count": null,
   "metadata": {
    "colab": {
     "base_uri": "https://localhost:8080/",
     "height": 36
    },
    "id": "F_pB8wsPsdA9",
    "outputId": "ca758fc3-330c-4ec4-bb4f-5863c7c03d7a"
   },
   "outputs": [
    {
     "data": {
      "application/vnd.google.colaboratory.intrinsic+json": {
       "type": "string"
      },
      "text/plain": [
       "''"
      ]
     },
     "execution_count": 8,
     "metadata": {},
     "output_type": "execute_result"
    }
   ],
   "source": [
    "s = str()\n",
    "s"
   ]
  },
  {
   "cell_type": "code",
   "execution_count": null,
   "metadata": {
    "id": "ffVNGUBhtMrL"
   },
   "outputs": [],
   "source": [
    "# Pascal Case - every word starts with capital letter\n",
    "\n",
    "HelloWorld"
   ]
  },
  {
   "cell_type": "code",
   "execution_count": 8,
   "metadata": {},
   "outputs": [
    {
     "name": "stdout",
     "output_type": "stream",
     "text": [
      "2109416088336\n",
      "hello\n"
     ]
    }
   ],
   "source": [
    "class Atm:\n",
    "\n",
    "# constructor(special function)->which execute itself when we create object\n",
    "# donot need to call (special fun) automatic calling is happened when class is called\n",
    "\n",
    "# to define variable there are two rules\n",
    "# always use constructor to declare its variable \n",
    "# and variable should be with self keyword(self.pin)\n",
    "#whenever you create class, variable should be inside constructor\n",
    "\n",
    "\n",
    "\n",
    "    def __init__(self): # this is constructor syntax # this class has two varibles pin and balance\n",
    "        print(id(self))\n",
    "        self.pin = ''\n",
    "        self.balance = 0\n",
    "        print('hello')\n",
    "    \n",
    "obj = Atm() # automatic constructor will be called when it execute\n",
    "            # creation of object of class\n"
   ]
  },
  {
   "cell_type": "code",
   "execution_count": 9,
   "metadata": {},
   "outputs": [
    {
     "name": "stdout",
     "output_type": "stream",
     "text": [
      "<class '__main__.Atm'>\n"
     ]
    }
   ],
   "source": [
    "print(type(obj))"
   ]
  },
  {
   "cell_type": "code",
   "execution_count": 10,
   "metadata": {
    "id": "76IAiCrBshyW"
   },
   "outputs": [],
   "source": [
    "class Atm:\n",
    "\n",
    "  # constructor(special function)->superpower -> \n",
    "    def __init__(self): #\n",
    "        print(id(self))\n",
    "        self.pin = ''\n",
    "        self.balance = 0\n",
    "        self.menu()\n",
    "    def menu(self):  \n",
    "        user_input = input(\"\"\"\n",
    "        Hi how can I help you?\n",
    "        1. Press 1 to create pin\n",
    "        2. Press 2 to change pin\n",
    "        3. Press 3 to check balance\n",
    "        4. Press 4 to withdraw\n",
    "        5. Anything else to exit\n",
    "        \"\"\")\n",
    "\n",
    "        if user_input == '1':\n",
    "            self.create_pin()\n",
    "        elif user_input == '2':\n",
    "            self.change_pin()\n",
    "        elif user_input == '3':\n",
    "            self.check_balance()\n",
    "        elif user_input == '4':\n",
    "            self.withdraw()\n",
    "        else:\n",
    "            exit()\n",
    "\n",
    "    def create_pin(self):\n",
    "        user_pin = input('enter your pin')\n",
    "        self.pin = user_pin\n",
    "        user_balance = input('enter your balance')\n",
    "        self.balance = user_balance\n",
    "        print('pin created sucessfully')\n",
    "        self.menu()\n",
    "    \n",
    "    def change_pin(self):\n",
    "        old_pin = input('enter your pin')\n",
    "        if (old_pin == self.pin):\n",
    "            new_pin = input('enter your new pin')\n",
    "            self.pin = new_pin\n",
    "            print('pin changed sucessfully')\n",
    "            self.menu()\n",
    "        else:\n",
    "            print('nahi karne de sakta ')\n",
    "            self.menu()\n",
    "\n",
    "    def check_balance(self):    # one method can not call the another method(check_balance can not call withdraw)\n",
    "        old_pin = input('enter your pin')\n",
    "        if(old_pin == self.pin):\n",
    "            print('your balance is ', self.balance)\n",
    "            self.menu()\n",
    "        else:\n",
    "            print('your pin is incorrect')\n",
    "            self.menu()\n",
    "\n",
    "    def withdraw(self):\n",
    "        old_pin = input('enter the pin')\n",
    "        if (old_pin == self.pin):\n",
    "            print('your current balance is ', self.balance)\n",
    "            withdraw_balance = int(input('enter amount you want to withdraw'))\n",
    "            current_balance =int(self.balance) \n",
    "            if(withdraw_balance <= current_balance):\n",
    "                self.balance = current_balance - withdraw_balance\n",
    "                print('remaining balance is... ', self.balance)\n",
    "                #self.menu()\n",
    "            else:\n",
    "                print('please correct your balance')\n",
    "                #self.menu()\n",
    "            self.menu()    \n",
    "        else:\n",
    "            print('may be chor ho')\n",
    "        self.menu()\n",
    "\n",
    "\n",
    "\n"
   ]
  },
  {
   "cell_type": "code",
   "execution_count": 11,
   "metadata": {
    "colab": {
     "base_uri": "https://localhost:8080/"
    },
    "id": "nT1VdlNauFYf",
    "outputId": "c999bb53-021f-4b1d-ab86-9c07614670f2"
   },
   "outputs": [
    {
     "name": "stdout",
     "output_type": "stream",
     "text": [
      "2109421691472\n",
      "\n",
      "        Hi how can I help you?\n",
      "        1. Press 1 to create pin\n",
      "        2. Press 2 to change pin\n",
      "        3. Press 3 to check balance\n",
      "        4. Press 4 to withdraw\n",
      "        5. Anything else to exit\n",
      "        5\n"
     ]
    }
   ],
   "source": [
    "obj1 = Atm()    # id of obj1 and self are same that means self is object of class\n",
    "                # methods of class can communicate to each other with the help of self object\n",
    "    # self is current object"
   ]
  },
  {
   "cell_type": "code",
   "execution_count": null,
   "metadata": {
    "colab": {
     "base_uri": "https://localhost:8080/"
    },
    "id": "zfF7WE1LuWzp",
    "outputId": "dc720059-b16b-4d1a-9b07-dff807a19ccd"
   },
   "outputs": [
    {
     "data": {
      "text/plain": [
       "140289660099024"
      ]
     },
     "execution_count": 9,
     "metadata": {},
     "output_type": "execute_result"
    }
   ],
   "source": [
    "id(obj1)\n",
    "# methods vs functions\n",
    "# any fun inside the class is called methods\n",
    "# Atm class - menu,check_balance,withdraw all are methods\n",
    "# and outside the class - is function\n",
    "# class A:\n",
    "#    def B():\n",
    "        # B is method\n",
    "# def C():\n",
    "    # while C is functions\n",
    "\n",
    "\n",
    "\n",
    "\n"
   ]
  },
  {
   "cell_type": "code",
   "execution_count": null,
   "metadata": {
    "colab": {
     "base_uri": "https://localhost:8080/"
    },
    "id": "NHJEFG6CuY1v",
    "outputId": "b6d60e51-ca4a-46b3-c95c-58ac30bf107d"
   },
   "outputs": [
    {
     "name": "stdout",
     "output_type": "stream",
     "text": [
      "140289660586384\n"
     ]
    }
   ],
   "source": [
    "obj2 = Atm()"
   ]
  },
  {
   "cell_type": "code",
   "execution_count": null,
   "metadata": {
    "colab": {
     "base_uri": "https://localhost:8080/"
    },
    "id": "2RmYPjp0-m5F",
    "outputId": "3c55ae5b-fea6-42b1-eb88-abd54c925aaf"
   },
   "outputs": [
    {
     "data": {
      "text/plain": [
       "140289660586384"
      ]
     },
     "execution_count": 11,
     "metadata": {},
     "output_type": "execute_result"
    }
   ],
   "source": [
    "id(obj2)"
   ]
  },
  {
   "cell_type": "code",
   "execution_count": null,
   "metadata": {
    "id": "qMYm7tYJv_s2"
   },
   "outputs": [],
   "source": [
    "L = [1,2,3]\n",
    "len(L) # function ->bcos it is outside the list class\n",
    "L.append()# method -> bcos it is inside the list class(connected with dot)"
   ]
  },
  {
   "cell_type": "code",
   "execution_count": 39,
   "metadata": {
    "colab": {
     "base_uri": "https://localhost:8080/"
    },
    "id": "FT63LIRB4YQM",
    "outputId": "64520926-5f6c-4491-e71d-83b1f63b4cd3"
   },
   "outputs": [
    {
     "name": "stdout",
     "output_type": "stream",
     "text": [
      "hello\n"
     ]
    }
   ],
   "source": [
    "class Temp:\n",
    "    def __init__(self):\n",
    "        print('hello')\n",
    "\n",
    "obj = Temp()\n",
    " # constructor - special method which do not require calling. when we create object it will call itself.\n",
    "# # benifit to describe constructor - use to write the configuration type code means you write the code inside the contructor which you do not give control to user(want automatic run some methods  )\n",
    "# database connectivity, internet connectivity code you write in constructor\n"
   ]
  },
  {
   "cell_type": "code",
   "execution_count": null,
   "metadata": {
    "colab": {
     "base_uri": "https://localhost:8080/"
    },
    "id": "w52ABPIX4dbv",
    "outputId": "c35dae21-2ab4-4a1f-ec98-05d962bdf12c"
   },
   "outputs": [
    {
     "data": {
      "text/plain": [
       "0.375"
      ]
     },
     "execution_count": 7,
     "metadata": {},
     "output_type": "execute_result"
    }
   ],
   "source": [
    "3/4*1/2  # inside the class you make the rule and object follow these rule\n",
    "# class object can access the variable and methods of class only\n",
    "\n",
    "# magic methods-- __method_name__()    # using magic methods we can create data types"
   ]
  },
  {
   "cell_type": "code",
   "execution_count": 48,
   "metadata": {},
   "outputs": [],
   "source": [
    "class Fraction:\n",
    "\n",
    "  # parameterized constructor which require some input\n",
    "  def __init__(self,x,y):\n",
    "    self.num = x\n",
    "    self.den = y\n",
    "  def __str__(self):\n",
    "    return '{}/{}'.format(self.num,self.den)\n",
    "    \n",
    "obj = Fraction(4,3)    \n"
   ]
  },
  {
   "cell_type": "code",
   "execution_count": 49,
   "metadata": {},
   "outputs": [
    {
     "name": "stdout",
     "output_type": "stream",
     "text": [
      "4/3\n"
     ]
    }
   ],
   "source": [
    "print(obj)"
   ]
  },
  {
   "cell_type": "code",
   "execution_count": null,
   "metadata": {
    "id": "CpmYQ8mm_N1X"
   },
   "outputs": [],
   "source": [
    "fr1 = Fraction(3,4)\n",
    "fr2 = Fraction(1,2)"
   ]
  },
  {
   "cell_type": "code",
   "execution_count": null,
   "metadata": {
    "colab": {
     "base_uri": "https://localhost:8080/"
    },
    "id": "-DW3uyJq_XAa",
    "outputId": "b8aac211-28f6-463f-aee1-10f5e93590ce"
   },
   "outputs": [
    {
     "data": {
      "text/plain": [
       "0.75"
      ]
     },
     "execution_count": 45,
     "metadata": {},
     "output_type": "execute_result"
    }
   ],
   "source": [
    "fr1.convert_to_decimal()\n",
    "# 3/4"
   ]
  },
  {
   "cell_type": "code",
   "execution_count": null,
   "metadata": {
    "colab": {
     "base_uri": "https://localhost:8080/"
    },
    "id": "TkfFpVlj_hdf",
    "outputId": "86461b66-070a-4491-a626-a8a0fe9b6e2e"
   },
   "outputs": [
    {
     "name": "stdout",
     "output_type": "stream",
     "text": [
      "10/8\n",
      "2/8\n",
      "3/8\n",
      "6/4\n"
     ]
    }
   ],
   "source": [
    "print(fr1 + fr2)\n",
    "print(fr1 - fr2)\n",
    "print(fr1 * fr2)\n",
    "print(fr1 / fr2)"
   ]
  },
  {
   "cell_type": "code",
   "execution_count": null,
   "metadata": {
    "colab": {
     "base_uri": "https://localhost:8080/",
     "height": 205
    },
    "id": "85oS9Z7ZAys4",
    "outputId": "c4e8344f-ed23-43ce-ca93-ff973f757680"
   },
   "outputs": [
    {
     "ename": "TypeError",
     "evalue": "ignored",
     "output_type": "error",
     "traceback": [
      "\u001b[0;31m---------------------------------------------------------------------------\u001b[0m",
      "\u001b[0;31mTypeError\u001b[0m                                 Traceback (most recent call last)",
      "\u001b[0;32m<ipython-input-32-3a417afc75fb>\u001b[0m in \u001b[0;36m<module>\u001b[0;34m\u001b[0m\n\u001b[1;32m      2\u001b[0m \u001b[0ms2\u001b[0m\u001b[0;34m=\u001b[0m\u001b[0;34m{\u001b[0m\u001b[0;36m3\u001b[0m\u001b[0;34m,\u001b[0m\u001b[0;36m4\u001b[0m\u001b[0;34m,\u001b[0m\u001b[0;36m5\u001b[0m\u001b[0;34m}\u001b[0m\u001b[0;34m\u001b[0m\u001b[0;34m\u001b[0m\u001b[0m\n\u001b[1;32m      3\u001b[0m \u001b[0;34m\u001b[0m\u001b[0m\n\u001b[0;32m----> 4\u001b[0;31m \u001b[0ms1\u001b[0m \u001b[0;34m+\u001b[0m \u001b[0ms2\u001b[0m\u001b[0;34m\u001b[0m\u001b[0;34m\u001b[0m\u001b[0m\n\u001b[0m",
      "\u001b[0;31mTypeError\u001b[0m: unsupported operand type(s) for +: 'set' and 'set'"
     ]
    }
   ],
   "source": [
    "s1={1,2,3}\n",
    "s2={3,4,5}\n",
    "\n",
    "s1 + s2"
   ]
  },
  {
   "cell_type": "code",
   "execution_count": null,
   "metadata": {
    "colab": {
     "base_uri": "https://localhost:8080/",
     "height": 169
    },
    "id": "op-qgssMA48a",
    "outputId": "0e2058d7-d5ef-4f55-ea8c-6495ae9bd0c4"
   },
   "outputs": [
    {
     "ename": "TypeError",
     "evalue": "ignored",
     "output_type": "error",
     "traceback": [
      "\u001b[0;31m---------------------------------------------------------------------------\u001b[0m",
      "\u001b[0;31mTypeError\u001b[0m                                 Traceback (most recent call last)",
      "\u001b[0;32m<ipython-input-39-929bcd8b32dc>\u001b[0m in \u001b[0;36m<module>\u001b[0;34m\u001b[0m\n\u001b[0;32m----> 1\u001b[0;31m \u001b[0mprint\u001b[0m\u001b[0;34m(\u001b[0m\u001b[0mfr1\u001b[0m \u001b[0;34m-\u001b[0m \u001b[0mfr2\u001b[0m\u001b[0;34m)\u001b[0m\u001b[0;34m\u001b[0m\u001b[0;34m\u001b[0m\u001b[0m\n\u001b[0m",
      "\u001b[0;31mTypeError\u001b[0m: unsupported operand type(s) for -: 'Fraction' and 'Fraction'"
     ]
    }
   ],
   "source": [
    "print(fr1 - fr2)"
   ]
  },
  {
   "cell_type": "code",
   "execution_count": null,
   "metadata": {
    "id": "UR_w2uzvCC2k"
   },
   "outputs": [],
   "source": [
    "### Write OOP classes to handle the following scenarios:\n",
    "\n",
    "#A user can create and view 2D coordinates\n",
    "#A user can find out the distance between 2 coordinates\n",
    "#A user can find find the distance of a coordinate from origin\n",
    "#A user can check if a point lies on a given line\n",
    "#A user can find the distance between a given 2D point and a given line -->\n",
    "\n",
    "\n",
    "\n",
    "\n",
    "class Point:\n",
    "\n",
    "    def __init__(self,x,y):\n",
    "        self.x_cod = x\n",
    "        self.y_cod = y\n",
    "\n",
    "    def __str__(self):\n",
    "        return '<{},{}>'.format(self.x_cod,self.y_cod)\n",
    "\n",
    "    def euclidean_distance(self,other):\n",
    "        return ((self.x_cod - other.x_cod)**2 + (self.y_cod - other.y_cod)**2)**0.5\n",
    "\n",
    "    def distance_from_origin(self):\n",
    "        return (self.x_cod**2 + self.y_cod**2)**0.5\n",
    "    # return self.euclidean_distance(Point(0,0))\n",
    "\n",
    "\n",
    "class Line:\n",
    "\n",
    "    def __init__(self,A,B,C):\n",
    "        self.A = A\n",
    "        self.B = B\n",
    "        self.C = C\n",
    "\n",
    "    def __str__(self):\n",
    "        return '{}x + {}y + {} = 0'.format(self.A,self.B,self.C)\n",
    "\n",
    "    def point_on_line(line,point):\n",
    "        if line.A*point.x_cod + line.B*point.y_cod + line.C == 0:\n",
    "            return \"lies on the line\"\n",
    "        else:\n",
    "            return \"does not lie on the line\"\n",
    "\n",
    "    def shortest_distance(line,point):\n",
    "        return abs(line.A*point.x_cod + line.B*point.y_cod + line.C)/(line.A**2 + line.B**2)**0.5\n"
   ]
  },
  {
   "cell_type": "code",
   "execution_count": 63,
   "metadata": {},
   "outputs": [
    {
     "data": {
      "text/plain": [
       "5.0"
      ]
     },
     "execution_count": 63,
     "metadata": {},
     "output_type": "execute_result"
    }
   ],
   "source": [
    "25**.5"
   ]
  },
  {
   "cell_type": "code",
   "execution_count": 85,
   "metadata": {},
   "outputs": [],
   "source": [
    "# self defined datatypes\n",
    "class Point:\n",
    "    def __init__(self,x,y): # to initialise the variable\n",
    "        self.x_cordinate = x\n",
    "        self.y_cordinate = y\n",
    "        \n",
    "    def __str__(self):\n",
    "        return '<{},{}>'.format(self.x_cordinate,self.y_cordinate)\n",
    "    \n",
    "    def euclidean_distance(self,other):\n",
    "        return ((self.x_cordinate - other.x_cordinate)**2 + (self.y_cordinate - other.y_cordinate)**2)**0.5\n",
    "        \n",
    "    def distance_from_origin(self):\n",
    "        #return (self.x_cod**2 + self.y_cod**2)**0.5\n",
    "        return self.euclidean_distance(Point(0,0))\n",
    "    \n",
    "class Line:\n",
    "    def __init__(self,A,B,C):\n",
    "        self.x_coffi = A\n",
    "        self.y_coffi = B\n",
    "        self.constant = C\n",
    "        \n",
    "    def __str__(self):\n",
    "        return '{}x + {}y + {} = 0'.format(self.x_coffi,self.y_coffi,self.constant)\n",
    "    \n",
    "    \n",
    "    def point_on_line(line,point):\n",
    "        if(line.x_coffi*point.x_cordinate + line.y_coffi*point.y_cordinate + line.constant ==0):\n",
    "            return 'lies on the line'\n",
    "        else:\n",
    "            return 'does not lie on line'\n",
    "        \n",
    "    def shortest_distance_line_point(line,point):\n",
    "        dis = line.x_coffi*point.x_cordinate + line.y_coffi*point.y_cordinate + line.constant / (line.x_coffi**2+ line.y_coffi**2)\n",
    "        return dis\n",
    "    \n",
    "    \n",
    "    \n",
    "    \n",
    "    \n",
    "        "
   ]
  },
  {
   "cell_type": "code",
   "execution_count": 86,
   "metadata": {},
   "outputs": [
    {
     "name": "stdout",
     "output_type": "stream",
     "text": [
      "<0,3>\n",
      "4x + 5y + 6 = 0\n"
     ]
    },
    {
     "data": {
      "text/plain": [
       "'does not lie on line'"
      ]
     },
     "execution_count": 86,
     "metadata": {},
     "output_type": "execute_result"
    }
   ],
   "source": [
    "p1 = Point(0,3)\n",
    "print(p1)\n",
    "#p2 = Point(0,0)\n",
    "#p1.euclidean_distance(p2)\n",
    "#p1.distance_from_origin()\n",
    "p3 = Line(4,5,6)\n",
    "print(p3)\n",
    "p3.point_on_line(p1) # p3.point_on_line will return --- line  and p1 --- point\n",
    "                     # object.method_name return -- self or first argument"
   ]
  },
  {
   "cell_type": "code",
   "execution_count": 87,
   "metadata": {},
   "outputs": [
    {
     "data": {
      "text/plain": [
       "15.146341463414634"
      ]
     },
     "execution_count": 87,
     "metadata": {},
     "output_type": "execute_result"
    }
   ],
   "source": [
    "p3.shortest_distance_line_point(p1)"
   ]
  },
  {
   "cell_type": "code",
   "execution_count": 93,
   "metadata": {},
   "outputs": [],
   "source": [
    "class Person:\n",
    "    def __init__(self,name_input,country_input):\n",
    "        self.name = name_input\n",
    "        self.country = country_input\n",
    "        self.greet()\n",
    "        \n",
    "    def greet(self):\n",
    "        if(self.country == 'India'):\n",
    "            print('Nmaste',self.name)\n",
    "        else:\n",
    "            print('Hello',self.name)"
   ]
  },
  {
   "cell_type": "code",
   "execution_count": 96,
   "metadata": {},
   "outputs": [
    {
     "name": "stdout",
     "output_type": "stream",
     "text": [
      "Nmaste ram\n"
     ]
    },
    {
     "data": {
      "text/plain": [
       "'ram'"
      ]
     },
     "execution_count": 96,
     "metadata": {},
     "output_type": "execute_result"
    }
   ],
   "source": [
    "per = Person('ram','India') # creating the class object\n"
   ]
  },
  {
   "cell_type": "code",
   "execution_count": null,
   "metadata": {},
   "outputs": [],
   "source": [
    "per.country # access the variable - object.variable_name\n",
    "per.name\n"
   ]
  },
  {
   "cell_type": "code",
   "execution_count": 97,
   "metadata": {},
   "outputs": [
    {
     "name": "stdout",
     "output_type": "stream",
     "text": [
      "Nmaste ram\n"
     ]
    }
   ],
   "source": [
    "per.greet() # object.method_name -- access the method name"
   ]
  },
  {
   "cell_type": "code",
   "execution_count": 98,
   "metadata": {},
   "outputs": [
    {
     "ename": "AttributeError",
     "evalue": "'Person' object has no attribute 'gender'",
     "output_type": "error",
     "traceback": [
      "\u001b[1;31m---------------------------------------------------------------------------\u001b[0m",
      "\u001b[1;31mAttributeError\u001b[0m                            Traceback (most recent call last)",
      "\u001b[1;32m~\\AppData\\Local\\Temp/ipykernel_14132/3712521456.py\u001b[0m in \u001b[0;36m<module>\u001b[1;34m\u001b[0m\n\u001b[0;32m      1\u001b[0m \u001b[1;31m# what if i try to access non-existent attributes\u001b[0m\u001b[1;33m\u001b[0m\u001b[1;33m\u001b[0m\u001b[0m\n\u001b[1;32m----> 2\u001b[1;33m \u001b[0mper\u001b[0m\u001b[1;33m.\u001b[0m\u001b[0mgender\u001b[0m\u001b[1;33m\u001b[0m\u001b[1;33m\u001b[0m\u001b[0m\n\u001b[0m",
      "\u001b[1;31mAttributeError\u001b[0m: 'Person' object has no attribute 'gender'"
     ]
    }
   ],
   "source": [
    "# what if i try to access non-existent attributes\n",
    "per.gender"
   ]
  },
  {
   "cell_type": "markdown",
   "metadata": {},
   "source": [
    "# Attribute creation from outside of the class"
   ]
  },
  {
   "cell_type": "code",
   "execution_count": 101,
   "metadata": {},
   "outputs": [],
   "source": [
    "per.gender = 'male'"
   ]
  },
  {
   "cell_type": "code",
   "execution_count": 103,
   "metadata": {},
   "outputs": [
    {
     "data": {
      "text/plain": [
       "'male'"
      ]
     },
     "execution_count": 103,
     "metadata": {},
     "output_type": "execute_result"
    }
   ],
   "source": [
    "per.gender"
   ]
  },
  {
   "cell_type": "raw",
   "metadata": {},
   "source": [
    "#Reference Variables\n",
    "Reference variables hold the objects\n",
    "We can create objects without reference variable as well\n",
    "An object can have multiple reference variables\n",
    "Assigning a new reference variable to an existing object does not create a new object"
   ]
  },
  {
   "cell_type": "code",
   "execution_count": 104,
   "metadata": {},
   "outputs": [],
   "source": [
    "# object without a reference\n",
    "class Person:\n",
    "    def __init__(self):\n",
    "        self.name = 'nitish'\n",
    "        self.gender = 'male'\n",
    "Person()  # will create object\n",
    "p = Person() # p is not an object it contain the memory address of object\n",
    "q = p        # p,q is reference variable pointing to same memory address"
   ]
  },
  {
   "cell_type": "code",
   "execution_count": 105,
   "metadata": {},
   "outputs": [
    {
     "name": "stdout",
     "output_type": "stream",
     "text": [
      "2877161389744\n",
      "2877161389744\n"
     ]
    }
   ],
   "source": [
    "# Multiple ref\n",
    "print(id(p))   # same memory address\n",
    "print(id(q))"
   ]
  },
  {
   "cell_type": "code",
   "execution_count": 106,
   "metadata": {},
   "outputs": [
    {
     "name": "stdout",
     "output_type": "stream",
     "text": [
      "nitish\n",
      "nitish\n",
      "ankit\n",
      "ankit\n"
     ]
    }
   ],
   "source": [
    "# change attribute value with the help of 2nd object\n",
    "print(p.name)\n",
    "print(q.name)\n",
    "q.name = 'ankit' # p and q hold same memory address so by changing the name of one varible changes the other as well\n",
    "print(q.name)\n",
    "print(p.name)"
   ]
  },
  {
   "cell_type": "code",
   "execution_count": null,
   "metadata": {},
   "outputs": [],
   "source": [
    "#Pass by reference"
   ]
  },
  {
   "cell_type": "code",
   "execution_count": 108,
   "metadata": {},
   "outputs": [
    {
     "name": "stdout",
     "output_type": "stream",
     "text": [
      "Hi my name is vipin and I am a male\n"
     ]
    }
   ],
   "source": [
    "class Person:\n",
    "    def __init__(self,name,gender):# method inside the class\n",
    "        self.name = name\n",
    "        self.gender = gender\n",
    "\n",
    "# outside the class -> function\n",
    "def greet(person):\n",
    "    print('Hi my name is',person.name,'and I am a',person.gender)\n",
    "    #p1 = Person('ankit','male')\n",
    "    #return p1\n",
    "\n",
    "p = Person('vipin','male')\n",
    "greet(p)\n",
    "#print(x.name)\n",
    "#print(x.gender)"
   ]
  },
  {
   "cell_type": "code",
   "execution_count": 110,
   "metadata": {},
   "outputs": [
    {
     "name": "stdout",
     "output_type": "stream",
     "text": [
      "Hi my name is vipin and I am a male\n",
      "ankit\n",
      "male\n"
     ]
    }
   ],
   "source": [
    "class Person:\n",
    "    def __init__(self,name,gender):# method inside the class\n",
    "        self.name = name\n",
    "        self.gender = gender\n",
    "\n",
    "# outside the class -> function\n",
    "def greet(person):\n",
    "    print('Hi my name is',person.name,'and I am a',person.gender)\n",
    "    p1 = Person('ankit','male') # create the person object and return p1 reference\n",
    "    return p1\n",
    "\n",
    "p = Person('vipin','male') \n",
    "x = greet(p)\n",
    "print(x.name)\n",
    "print(x.gender)"
   ]
  },
  {
   "cell_type": "code",
   "execution_count": 111,
   "metadata": {},
   "outputs": [
    {
     "name": "stdout",
     "output_type": "stream",
     "text": [
      "2877161507952\n",
      "2877161507952\n",
      "ankit\n",
      "ankit\n"
     ]
    }
   ],
   "source": [
    "class Person:\n",
    "    def __init__(self,name,gender):\n",
    "        self.name = name\n",
    "        self.gender = gender\n",
    "\n",
    "# outside the class -> function\n",
    "def greet(person):\n",
    "    print(id(person))\n",
    "    person.name = 'ankit'\n",
    "    print(person.name)\n",
    "\n",
    "p = Person('nitish','male')\n",
    "print(id(p))\n",
    "greet(p)\n",
    "print(p.name)"
   ]
  },
  {
   "cell_type": "code",
   "execution_count": 112,
   "metadata": {},
   "outputs": [
    {
     "name": "stdout",
     "output_type": "stream",
     "text": [
      "2877161329088\n",
      "2877161329088\n"
     ]
    }
   ],
   "source": [
    "#Object ki mutability\n",
    "# user defined classes are mutable\n",
    "class Person:\n",
    "    def __init__(self,name,gender):\n",
    "        self.name = name\n",
    "        self.gender = gender\n",
    "\n",
    "# outside the class -> function\n",
    "def greet(person):\n",
    "    person.name = 'ankit'\n",
    "    return person\n",
    "\n",
    "p = Person('nitish','male')\n",
    "print(id(p))\n",
    "p1 = greet(p)\n",
    "print(id(p1))"
   ]
  },
  {
   "cell_type": "markdown",
   "metadata": {},
   "source": [
    "# Encapsulation"
   ]
  },
  {
   "cell_type": "code",
   "execution_count": 113,
   "metadata": {},
   "outputs": [],
   "source": [
    "# instance var -> python tutor\n",
    "class Person:\n",
    "    def __init__(self,name_input,country_input):\n",
    "        self.name = name_input\n",
    "        self.country = country_input\n",
    "\n",
    "p1 = Person('nitish','india')\n",
    "p2 = Person('steve','australia')"
   ]
  },
  {
   "cell_type": "code",
   "execution_count": 114,
   "metadata": {},
   "outputs": [
    {
     "data": {
      "text/plain": [
       "'steve'"
      ]
     },
     "execution_count": 114,
     "metadata": {},
     "output_type": "execute_result"
    }
   ],
   "source": [
    "p2.name"
   ]
  },
  {
   "cell_type": "code",
   "execution_count": 3,
   "metadata": {},
   "outputs": [],
   "source": [
    "# to make attributes and variable as private apply double under score before that\n",
    "# if you do not want give access to user/coder of your variable and methods ---- try to make it private\n",
    "class Atm:\n",
    "    \n",
    "\n",
    "  # constructor(special function)->superpower -> \n",
    "    def __init__(self):\n",
    "        print(id(self))\n",
    "        self.pin = ''    # self.__pin\n",
    "        self.__balance = 0 # self.__balance -- make it private\n",
    "        self.menu()\n",
    "\n",
    "    def get_balance(self):\n",
    "        return self.__balance\n",
    "\n",
    "    def set_balance(self,new_value):\n",
    "        if type(new_value) == int:\n",
    "            self.__balance = new_value\n",
    "        else:\n",
    "            print('beta bahot maarenge')\n",
    "\n",
    "    def menu(self):\n",
    "        user_input = input(\"\"\"\n",
    "    Hi how can I help you?\n",
    "    1. Press 1 to create pin\n",
    "    2. Press 2 to change pin\n",
    "    3. Press 3 to check balance\n",
    "    4. Press 4 to withdraw\n",
    "    5. Anything else to exit\n",
    "    \"\"\")\n",
    "\n",
    "        if user_input == '1':\n",
    "            self.create_pin()\n",
    "        elif user_input == '2':\n",
    "              self.change_pin()\n",
    "        elif user_input == '3':\n",
    "              self.check_balance()\n",
    "        elif user_input == '4':\n",
    "              self.withdraw()\n",
    "        else:\n",
    "              exit()\n",
    "\n",
    "    def create_pin(self):\n",
    "        user_pin = input('enter your pin')\n",
    "        self.pin = user_pin\n",
    "\n",
    "        user_balance = int(input('enter balance'))\n",
    "        self.__balance = user_balance\n",
    "\n",
    "        print('pin created successfully')\n",
    "\n",
    "    def change_pin(self):\n",
    "        old_pin = input('enter old pin')\n",
    "\n",
    "        if old_pin == self.pin:\n",
    "      # let him change the pin\n",
    "            new_pin = input('enter new pin')\n",
    "            self.pin = new_pin\n",
    "            print('pin change successful')\n",
    "        else:\n",
    "            print('nai karne de sakta re baba')\n",
    "\n",
    "    def check_balance(self):\n",
    "        user_pin = input('enter your pin')\n",
    "        if user_pin == self.pin:\n",
    "            print('your balance is ',self.__balance)\n",
    "        else:\n",
    "            print('chal nikal yahan se')\n",
    "\n",
    "    def withdraw(self):\n",
    "        user_pin = input('enter the pin')\n",
    "        if user_pin == self.pin:\n",
    "        # allow to withdraw\n",
    "            amount = int(input('enter the amount'))\n",
    "            if amount <= self.__balance:\n",
    "                self.__balance = self.__balance - amount\n",
    "                print('withdrawl successful.balance is',self.__balance)\n",
    "            else:\n",
    "                print('abe garib')\n",
    "        else:\n",
    "            print('sale chor')"
   ]
  },
  {
   "cell_type": "code",
   "execution_count": 4,
   "metadata": {},
   "outputs": [
    {
     "name": "stdout",
     "output_type": "stream",
     "text": [
      "3056468327056\n",
      "\n",
      "    Hi how can I help you?\n",
      "    1. Press 1 to create pin\n",
      "    2. Press 2 to change pin\n",
      "    3. Press 3 to check balance\n",
      "    4. Press 4 to withdraw\n",
      "    5. Anything else to exit\n",
      "    1\n",
      "enter your pin123\n",
      "enter balance5000\n",
      "pin created successfully\n"
     ]
    }
   ],
   "source": [
    "obj = Atm()"
   ]
  },
  {
   "cell_type": "code",
   "execution_count": null,
   "metadata": {},
   "outputs": [],
   "source": [
    "# added code\n",
    "obj.create_pin() \n",
    "obj.balance = 'hehehe' # balance is numeric and you trying to store int\n",
    "# variable store in memory in the format ---> _className__variableName\n",
    "# when you make it private it store in the format --> __name\n",
    "# in python nothing is truly private -- you can change private attributes as well\n",
    "# obj._className__methods/attributesName"
   ]
  },
  {
   "cell_type": "code",
   "execution_count": 8,
   "metadata": {},
   "outputs": [
    {
     "name": "stdout",
     "output_type": "stream",
     "text": [
      "enter your pin123\n",
      "enter balance5000\n",
      "pin created successfully\n"
     ]
    }
   ],
   "source": [
    "# added code\n",
    "obj.create_pin()\n",
    "obj.__balance = 'hehehe' # try to change private attributes ---- it will change but not impact on balance"
   ]
  },
  {
   "cell_type": "code",
   "execution_count": null,
   "metadata": {},
   "outputs": [],
   "source": [
    "# using getter and setter method you can change the value and see the value of private method/attributes "
   ]
  },
  {
   "cell_type": "code",
   "execution_count": 5,
   "metadata": {},
   "outputs": [
    {
     "data": {
      "text/plain": [
       "5000"
      ]
     },
     "execution_count": 5,
     "metadata": {},
     "output_type": "execute_result"
    }
   ],
   "source": [
    "obj.get_balance()"
   ]
  },
  {
   "cell_type": "code",
   "execution_count": 6,
   "metadata": {},
   "outputs": [],
   "source": [
    "obj.set_balance(1000)"
   ]
  },
  {
   "cell_type": "code",
   "execution_count": 9,
   "metadata": {},
   "outputs": [
    {
     "name": "stdout",
     "output_type": "stream",
     "text": [
      "enter the pin123\n",
      "enter the amount2000\n",
      "withdrawl successful.balance is 3000\n"
     ]
    }
   ],
   "source": [
    "obj.withdraw()"
   ]
  },
  {
   "cell_type": "code",
   "execution_count": 11,
   "metadata": {},
   "outputs": [
    {
     "name": "stdout",
     "output_type": "stream",
     "text": [
      "[<__main__.Person object at 0x000002C7A3B57AC0>, <__main__.Person object at 0x000002C7A3B57C70>, <__main__.Person object at 0x000002C7A3B57760>]\n",
      "nitish male\n",
      "ankit male\n",
      "ankita female\n"
     ]
    }
   ],
   "source": [
    "# keeping the private method/attributes but you want to show your data to outside word term \n",
    "# encapsulation comes into picture with the help of getter and setter method\n",
    "#Collection of objects\n",
    "# list of objects\n",
    "class Person:\n",
    "    def __init__(self,name,gender):\n",
    "        self.name = name\n",
    "        self.gender = gender\n",
    "\n",
    "p1 = Person('nitish','male')\n",
    "p2 = Person('ankit','male')\n",
    "p3 = Person('ankita','female')\n",
    "\n",
    "L = [p1,p2,p3] # store the memory address\n",
    "print(L)\n",
    "\n",
    "for i in L:\n",
    "    print(i.name,i.gender)"
   ]
  },
  {
   "cell_type": "code",
   "execution_count": 12,
   "metadata": {},
   "outputs": [
    {
     "name": "stdout",
     "output_type": "stream",
     "text": [
      "male\n",
      "male\n",
      "female\n"
     ]
    }
   ],
   "source": [
    "# dict of objects\n",
    "# list of objects\n",
    "class Person:\n",
    "    def __init__(self,name,gender):\n",
    "        self.name = name\n",
    "        self.gender = gender\n",
    "\n",
    "p1 = Person('nitish','male')\n",
    "p2 = Person('ankit','male')\n",
    "p3 = Person('ankita','female')\n",
    "\n",
    "d = {'p1':p1,'p2':p2,'p3':p3} # object store in dict also\n",
    "\n",
    "for i in d:\n",
    "    print(d[i].gender)"
   ]
  },
  {
   "cell_type": "code",
   "execution_count": null,
   "metadata": {},
   "outputs": [],
   "source": [
    "#Static Variables(Vs Instance variables)\n",
    "## need for static vars"
   ]
  },
  {
   "cell_type": "code",
   "execution_count": null,
   "metadata": {},
   "outputs": [],
   "source": [
    "class Atm:\n",
    "\n",
    "  __counter = 1\n",
    "\n",
    "  # constructor(special function)->superpower -> \n",
    "  def __init__(self):\n",
    "    print(id(self))\n",
    "    self.pin = ''\n",
    "    self.__balance = 0\n",
    "    self.cid = Atm.__counter\n",
    "    Atm.__counter = Atm.__counter + 1\n",
    "    #self.menu()\n",
    "\n",
    "  # utility functions\n",
    "  @staticmethod\n",
    "  def get_counter():\n",
    "    return Atm.__counter\n",
    "\n",
    "\n",
    "  def get_balance(self):\n",
    "    return self.__balance\n",
    "\n",
    "  def set_balance(self,new_value):\n",
    "    if type(new_value) == int:\n",
    "      self.__balance = new_value\n",
    "    else:\n",
    "      print('beta bahot maarenge')\n",
    "\n",
    "  def __menu(self):\n",
    "    user_input = input(\"\"\"\n",
    "    Hi how can I help you?\n",
    "    1. Press 1 to create pin\n",
    "    2. Press 2 to change pin\n",
    "    3. Press 3 to check balance\n",
    "    4. Press 4 to withdraw\n",
    "    5. Anything else to exit\n",
    "    \"\"\")\n",
    "\n",
    "    if user_input == '1':\n",
    "      self.create_pin()\n",
    "    elif user_input == '2':\n",
    "      self.change_pin()\n",
    "    elif user_input == '3':\n",
    "      self.check_balance()\n",
    "    elif user_input == '4':\n",
    "      self.withdraw()\n",
    "    else:\n",
    "      exit()\n",
    "\n",
    "  def create_pin(self):\n",
    "    user_pin = input('enter your pin')\n",
    "    self.pin = user_pin\n",
    "\n",
    "    user_balance = int(input('enter balance'))\n",
    "    self.__balance = user_balance\n",
    "\n",
    "    print('pin created successfully')\n",
    "\n",
    "  def change_pin(self):\n",
    "    old_pin = input('enter old pin')\n",
    "\n",
    "    if old_pin == self.pin:\n",
    "      # let him change the pin\n",
    "      new_pin = input('enter new pin')\n",
    "      self.pin = new_pin\n",
    "      print('pin change successful')\n",
    "    else:\n",
    "      print('nai karne de sakta re baba')\n",
    "\n",
    "  def check_balance(self):\n",
    "    user_pin = input('enter your pin')\n",
    "    if user_pin == self.pin:\n",
    "      print('your balance is ',self.__balance)\n",
    "    else:\n",
    "      print('chal nikal yahan se')\n",
    "\n",
    "  def withdraw(self):\n",
    "    user_pin = input('enter the pin')\n",
    "    if user_pin == self.pin:\n",
    "      # allow to withdraw\n",
    "      amount = int(input('enter the amount'))\n",
    "      if amount <= self.__balance:\n",
    "        self.__balance = self.__balance - amount\n",
    "        print('withdrawl successful.balance is',self.__balance)\n",
    "      else:\n",
    "        print('abe garib')\n",
    "    else:\n",
    "      print('sale chor')"
   ]
  }
 ],
 "metadata": {
  "colab": {
   "provenance": []
  },
  "kernelspec": {
   "display_name": "Python 3 (ipykernel)",
   "language": "python",
   "name": "python3"
  },
  "language_info": {
   "codemirror_mode": {
    "name": "ipython",
    "version": 3
   },
   "file_extension": ".py",
   "mimetype": "text/x-python",
   "name": "python",
   "nbconvert_exporter": "python",
   "pygments_lexer": "ipython3",
   "version": "3.9.13"
  }
 },
 "nbformat": 4,
 "nbformat_minor": 1
}
