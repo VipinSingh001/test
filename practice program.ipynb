{
 "cells": [
  {
   "cell_type": "code",
   "execution_count": 27,
   "id": "c281ddc7",
   "metadata": {},
   "outputs": [
    {
     "name": "stdout",
     "output_type": "stream",
     "text": [
      "A\n",
      "AA\n",
      "AAA\n"
     ]
    }
   ],
   "source": [
    "n =3 \n",
    "temp = ''\n",
    "for i in range(1, n+1):\n",
    "    temp = temp + 'A'\n",
    "    print(temp)"
   ]
  },
  {
   "cell_type": "code",
   "execution_count": 28,
   "id": "698cc622",
   "metadata": {},
   "outputs": [
    {
     "name": "stdout",
     "output_type": "stream",
     "text": [
      "30\n"
     ]
    }
   ],
   "source": [
    "n= 4\n",
    "sum = 0\n",
    "for i in range(1, n+1):\n",
    "    sum = sum + i*i\n",
    "print(sum)    \n",
    "    "
   ]
  },
  {
   "cell_type": "code",
   "execution_count": 30,
   "id": "2c918e5f",
   "metadata": {},
   "outputs": [
    {
     "name": "stdout",
     "output_type": "stream",
     "text": [
      "Trisect\n"
     ]
    }
   ],
   "source": [
    "n = 12\n",
    "if(n%4==0):\n",
    "    print('Trisect')"
   ]
  },
  {
   "cell_type": "code",
   "execution_count": 32,
   "id": "27e909c9",
   "metadata": {},
   "outputs": [
    {
     "name": "stdout",
     "output_type": "stream",
     "text": [
      "Enter the value = 7\n",
      "UP\n"
     ]
    }
   ],
   "source": [
    "a = int(input('Enter the value = '))\n",
    "if (a<0):\n",
    "    print('Down')\n",
    "else:\n",
    "    print('UP')"
   ]
  },
  {
   "cell_type": "code",
   "execution_count": 36,
   "id": "17db8e2f",
   "metadata": {},
   "outputs": [
    {
     "name": "stdout",
     "output_type": "stream",
     "text": [
      "1 : odd\n",
      "2 : Even\n",
      "3 : odd\n"
     ]
    }
   ],
   "source": [
    "n =3\n",
    "for i in range(1, n+1):\n",
    "    if(i%2==0):\n",
    "        print(i,':','Even')\n",
    "    else:\n",
    "        print(i,':','odd')\n",
    "    "
   ]
  },
  {
   "cell_type": "code",
   "execution_count": 41,
   "id": "61db8fdd",
   "metadata": {},
   "outputs": [
    {
     "name": "stdout",
     "output_type": "stream",
     "text": [
      "XYXYX\n"
     ]
    }
   ],
   "source": [
    "n = 5\n",
    "temp = ''\n",
    "for i in range(1, n+1):\n",
    "    if(i%2 == 1):\n",
    "        temp = temp + 'X'\n",
    "    else:\n",
    "        temp = temp + 'Y'\n",
    "print(temp)        "
   ]
  },
  {
   "cell_type": "code",
   "execution_count": 43,
   "id": "71a93699",
   "metadata": {},
   "outputs": [
    {
     "name": "stdout",
     "output_type": "stream",
     "text": [
      "3 : Pepsi\n",
      "4 : Coke\n",
      "6 : Pepsi\n"
     ]
    }
   ],
   "source": [
    "n = 6 \n",
    "for i in range(1,n+1):\n",
    "    if(i%3 == 0):\n",
    "        print(i,':','Pepsi')\n",
    "    if(i%4 == 0):\n",
    "        print(i,':','Coke')"
   ]
  },
  {
   "cell_type": "code",
   "execution_count": 46,
   "id": "ae7274f6",
   "metadata": {},
   "outputs": [
    {
     "name": "stdout",
     "output_type": "stream",
     "text": [
      "Enter the no. 5\n",
      "ABCAB\n"
     ]
    }
   ],
   "source": [
    "num = int(input('Enter the no. '))\n",
    "temp = ''\n",
    "for i in range(1, num+1):\n",
    "    if(i%3 == 0):\n",
    "        temp = temp + 'C'\n",
    "        #print(i,':', 'C')\n",
    "    if(i%3 == 2):\n",
    "        temp = temp + 'B'\n",
    "    if (i%3 == 1):\n",
    "        temp = temp + 'A'\n",
    "print(temp)        "
   ]
  },
  {
   "cell_type": "code",
   "execution_count": null,
   "id": "90d70e87",
   "metadata": {},
   "outputs": [],
   "source": []
  },
  {
   "cell_type": "code",
   "execution_count": null,
   "id": "5ac4566d",
   "metadata": {},
   "outputs": [],
   "source": []
  },
  {
   "cell_type": "code",
   "execution_count": null,
   "id": "318655f6",
   "metadata": {},
   "outputs": [],
   "source": []
  }
 ],
 "metadata": {
  "kernelspec": {
   "display_name": "Python 3",
   "language": "python",
   "name": "python3"
  },
  "language_info": {
   "codemirror_mode": {
    "name": "ipython",
    "version": 3
   },
   "file_extension": ".py",
   "mimetype": "text/x-python",
   "name": "python",
   "nbconvert_exporter": "python",
   "pygments_lexer": "ipython3",
   "version": "3.8.8"
  }
 },
 "nbformat": 4,
 "nbformat_minor": 5
}
