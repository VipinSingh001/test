{
 "cells": [
  {
   "cell_type": "code",
   "execution_count": 1,
   "id": "55197dec",
   "metadata": {},
   "outputs": [
    {
     "name": "stdout",
     "output_type": "stream",
     "text": [
      " Enter the Email123@gmail.com\n",
      "wrong email 2 \n"
     ]
    }
   ],
   "source": [
    "# Email Validation\n",
    "email = input('Enter the Email---')#g@g.in # min value will be 6\n",
    "k,j,d = 0,0,0\n",
    "if len(email)>=6:\n",
    "    if email[0].isalpha():\n",
    "        if ('@'in email) and (email.count('@')==1):\n",
    "            if (email[-3]=='.') ^ (email[-4]== '.'):\n",
    "                for i in email:\n",
    "                    if (i== i.isspace()):\n",
    "                        k = 1\n",
    "                    elif i.isdigit(): # if any digit continue\n",
    "                        continue\n",
    "                    elif i.isalpha(): # any upper case not allowed\n",
    "                        if i == i.upper():\n",
    "                            j=1\n",
    "                        continue\n",
    "                    elif i == '_' or i == '.' or i== '@': # allow these letter\n",
    "                        continue\n",
    "                    else:\n",
    "                        d=1\n",
    "                if k == 1 or j==1 or d ==1:\n",
    "                    print('wrong email 5')\n",
    "                else:\n",
    "                    print('Email Valid')\n",
    "                    \n",
    "            else:\n",
    "                print('Wrong email 4')\n",
    "        else:\n",
    "            print('wrong email 3')\n",
    "        \n",
    "    else:\n",
    "        print('wrong email 2 ')\n",
    "else:\n",
    "    print('Wrong Email 1')\n",
    "    \n",
    "    "
   ]
  },
  {
   "cell_type": "code",
   "execution_count": 2,
   "id": "7197984f",
   "metadata": {},
   "outputs": [
    {
     "name": "stdout",
     "output_type": "stream",
     "text": [
      "a\n"
     ]
    }
   ],
   "source": [
    "#Email Validation using reg\n",
    "a='vip in'\n",
    "\n",
    "if ' ' in a:\n",
    "    print('a')\n",
    "else:\n",
    "    print('b')\n",
    "    "
   ]
  },
  {
   "cell_type": "code",
   "execution_count": 3,
   "id": "bc9d6b33",
   "metadata": {},
   "outputs": [
    {
     "name": "stdout",
     "output_type": "stream",
     "text": [
      "Enter the mailvipinsingh@gmail..com\n",
      "Worng Email\n"
     ]
    }
   ],
   "source": [
    "# email validation using regex\n",
    "# a-z letter in small , 0-9 number, . and _ one time before @ , @ one time , . should be second and third place\n",
    "#[\\._]? ---- string should contain one . and one _, question mark work on true false. if string contain one dot and underscore\n",
    "# it will return true otherwise false\n",
    "#[.]\\w{2,3}$--- dot will be search from the last at 2nd and 3rd place $ sign use to search from last\n",
    "\n",
    "import re\n",
    "email_condition = \"^[a-z]+[\\._]?[a-z 0-9]+[@]\\w+[.]\\w{2,3}$\"\n",
    "email = input('Enter the mail')\n",
    "if re.search(email_condition,email):\n",
    "    print('Right Email')\n",
    "else:\n",
    "    print('Worng Email')\n",
    "\n",
    "\n",
    "\n"
   ]
  },
  {
   "cell_type": "code",
   "execution_count": 7,
   "id": "d3678353",
   "metadata": {},
   "outputs": [],
   "source": [
    "# qr code generator using module qrcode\n",
    "#!pip install qrcode\n",
    "import qrcode as qr\n",
    "img = qr.make('http://cosec.vglgroup.com/COSEC/Login') # this make the qrcode \n",
    "img.save('C:/Users/vipin.singh/Downloads/login.png') # this will save the qr code as png file\n"
   ]
  },
  {
   "cell_type": "code",
   "execution_count": 14,
   "id": "52dc1c11",
   "metadata": {},
   "outputs": [],
   "source": [
    "# advance qr code\n",
    "#!pip install pillow\n",
    "import PIL\n",
    "import qrcode as qr\n",
    "from PIL import Image\n",
    "qrc = qr.QRCode(version = 1, \n",
    "                error_correction =qr.constants.ERROR_CORRECT_H, \n",
    "                box_size =10, border =4,) #QRCode provide features to change the functionality of QR image\n",
    "qrc.add_data('http://cosec.vglgroup.com/COSEC/Login') # link which you want to make qrcode\n",
    "qrc.make(fit = True) # we have add the link, we need to just pass fit= true\n",
    "imag = qrc.make_image(fill_color = 'red', back_color = 'blue') # fill the color in qrcode\n",
    "imag.save('C:/Users/vipin.singh/Downloads/login1.png') # save the image as per location\n"
   ]
  },
  {
   "cell_type": "code",
   "execution_count": 2,
   "id": "a1434e7d",
   "metadata": {},
   "outputs": [],
   "source": [
    "# shut down app \n",
    "#!pip install tk\n",
    "import tkinter as tk \n",
    "from tkinter import * \n",
    "import os\n",
    "\n",
    "def restart():\n",
    "    os.system('shutdown /r /t 1')\n",
    "def restart_time():\n",
    "    os.system('shutdown /r /t 20')\n",
    "def logout():\n",
    "    os.system('shutdown -l')\n",
    "def shutdown():\n",
    "    os.system('shutdown /s /t 1')\n",
    "   \n",
    "    \n",
    "\n",
    "\n",
    "\n",
    "\n",
    "st = Tk()\n",
    "st.title('ShutDown App')\n",
    "st.geometry('500x500')\n",
    "st.config(bg = 'blue')\n",
    "r_button = Button(st, text = 'Restart', font = ('Time New Roman', 20,'bold'),relief = RAISED, cursor = 'plus', command = restart)\n",
    "r_button.place(x = 150, y=70, height = 50 , width = 200)\n",
    "# when we call the function using button we use 'command' \n",
    "rt_button = Button(st, text = 'Restart Time', font = ('Time New Roman', 20,'bold'),relief = RAISED, cursor = 'plus',command = restart_time)\n",
    "rt_button.place(x = 150, y=170, height = 50 , width = 200)\n",
    "\n",
    "lg_button = Button(st, text = 'LogOut', font = ('Time New Roman', 20,'bold'),relief = RAISED, cursor = 'plus',command = logout)\n",
    "lg_button.place(x = 150, y=270, height = 50 , width = 200)\n",
    "\n",
    "sd_button = Button(st, text = 'ShutDown', font = ('Time New Roman', 30,'bold'),relief = RAISED, cursor = 'plus',command = shutdown)\n",
    "sd_button.place(x = 150, y=370, height = 50 , width = 200)\n",
    "\n",
    "\n",
    "st.mainloop()\n",
    "\n"
   ]
  },
  {
   "cell_type": "code",
   "execution_count": 9,
   "id": "9d018084",
   "metadata": {},
   "outputs": [
    {
     "name": "stdout",
     "output_type": "stream",
     "text": [
      " Ready to test : yes / no :yes\n",
      "  ***typing speed***\n",
      "my name is vipin singh chauhan\n",
      "\n",
      "\n",
      "Enter : m name is vip singh cha\n",
      "Speed : 3  word / sec \n",
      "Error : 28\n",
      " Ready to test : yes / no :n0\n",
      "Wrong Input\n",
      " Ready to test : yes / no :no\n",
      "Thank you \n"
     ]
    }
   ],
   "source": [
    "# Typing Speed Calculator using time module\n",
    "from time import *\n",
    "import random as r\n",
    "def mistake(partest, usertest):  # counting of mistakes\n",
    "    error = 0\n",
    "    for i in range(len(partest)):\n",
    "        try:\n",
    "            if partest[i] != usertest[i]: # orignal para is not equla to typed para error will be increased\n",
    "                error = error + 1\n",
    "        except:\n",
    "                error = error + 1\n",
    "    return error\n",
    "\n",
    "def speed_time(time_s, time_e, userinput):\n",
    "    time_delay = time_e - time_s\n",
    "    time_R = round(time_delay,2)\n",
    "    speed = len(userinput)/ time_R\n",
    "    return round(speed)\n",
    "    \n",
    "\n",
    "\n",
    "while(True):\n",
    "    ck = input(' Ready to test : yes / no :')\n",
    "    if (ck == 'yes'):\n",
    "        test = ['I am working in VGL as machine learning engineer','my name is vipin singh chauhan','Welcome to noida']\n",
    "        test1 = r.choice(test)\n",
    "        print('  ***typing speed***')\n",
    "        print(test1)\n",
    "        print()\n",
    "        print()\n",
    "        time_1 = time()\n",
    "        testinput = input('Enter : ')\n",
    "        time_2 = time()\n",
    "\n",
    "        print('Speed :', speed_time(time_1, time_2, testinput), ' word / sec ')\n",
    "        print('Error :', mistake(test1, testinput))\n",
    "    elif (ck == 'no'):\n",
    "        print('Thank you ')\n",
    "        break\n",
    "    else:\n",
    "        print('Wrong Input')\n"
   ]
  },
  {
   "cell_type": "code",
   "execution_count": 8,
   "id": "eea4e748",
   "metadata": {},
   "outputs": [
    {
     "name": "stdout",
     "output_type": "stream",
     "text": [
      "^C\n"
     ]
    }
   ],
   "source": [
    "\n"
   ]
  },
  {
   "cell_type": "code",
   "execution_count": 9,
   "id": "05fdae8a",
   "metadata": {},
   "outputs": [
    {
     "name": "stderr",
     "output_type": "stream",
     "text": [
      "Exception in Tkinter callback\n",
      "Traceback (most recent call last):\n",
      "  File \"C:\\Users\\vipin.singh\\Anaconda3\\lib\\tkinter\\__init__.py\", line 1892, in __call__\n",
      "    return self.func(*args)\n",
      "  File \"<ipython-input-9-21179406d5f5>\", line 7, in speedcheck\n",
      "    sp = speedtest.Speedtest()\n",
      "AttributeError: module 'speedtest' has no attribute 'Speedtest'\n"
     ]
    }
   ],
   "source": [
    "# speed test of internet \n",
    "from tkinter import *\n",
    "import speedtest\n",
    "\n",
    "\n",
    "def speedcheck():\n",
    "    sp = speedtest.Speedtest()\n",
    "    sp.get_servers()# to get server\n",
    "    download_speed = str(round(sp.download()/(10**6),3)) + 'Mbps'\n",
    "    uploading_speed = str(round(sp.upload()/(10**6),3)) + 'Mbps'\n",
    "    lab_down.config(text = download_speed)\n",
    "    lab_up.config(text = uploading_speed )\n",
    "\n",
    "    \n",
    "\n",
    "\n",
    "sp = Tk()\n",
    "sp.title('Internet speed test')\n",
    "sp.geometry('500x600')\n",
    "sp.config(bg='Blue')\n",
    "\n",
    "lab = Label(sp,text = 'Internet Speed test', font = ('Time New Roman',30,'bold'), bg= 'Blue', fg = 'White' )\n",
    "lab.place(x= 60 , y =40, height = 50, width = 380 )\n",
    "\n",
    "lab = Label(sp,text = 'Downloading Speed', font = ('Time New Roman',30,'bold'))\n",
    "lab.place(x= 55 , y =130,height = 50, width = 380 )\n",
    "\n",
    "lab_down = Label(sp,text = '000', font = ('Time New Roman',30,'bold'))\n",
    "lab_down.place(x= 55 , y =200, height = 50, width = 380)\n",
    "\n",
    "lab = Label(sp,text = 'Uploading Speed', font = ('Time New Roman',30,'bold'))\n",
    "lab.place(x= 55 , y =290,height = 50, width = 380 )\n",
    "\n",
    "lab_up = Label(sp,text = '000', font = ('Time New Roman',30,'bold'))\n",
    "lab_up.place(x= 55 , y =360, height = 50, width = 380 )\n",
    "\n",
    "\n",
    "button = Button(sp,text = 'Check Speed', font = ('Time New Roman', 30, 'bold'), relief = RAISED, bg= 'Red', command = speedcheck)\n",
    "button.place(x = 60, y = 460, height = 50, width = 380)\n",
    "\n",
    "\n",
    "sp.mainloop()\n",
    "\n"
   ]
  },
  {
   "cell_type": "code",
   "execution_count": 3,
   "id": "c2cd192d",
   "metadata": {},
   "outputs": [
    {
     "name": "stderr",
     "output_type": "stream",
     "text": [
      "ERROR: Invalid requirement: 'pystan=2.19.0.0'\n",
      "Hint: = is not a valid operator. Did you mean == ?\n",
      "ERROR: Could not open requirements file: [Errno 2] No such file or directory: 'conda-forge'\n"
     ]
    }
   ],
   "source": [
    "#!pip uninstall pystan\n",
    "#conda install --channel conda-forge pystan fbprophet\n",
    "#!pip install pystan=2.19.0.0\n",
    "#!pip install -c conda-forge fbprophet=0.6.0\n",
    "\n"
   ]
  },
  {
   "cell_type": "code",
   "execution_count": null,
   "id": "2469c4df",
   "metadata": {},
   "outputs": [],
   "source": []
  },
  {
   "cell_type": "code",
   "execution_count": 1,
   "id": "896591a0",
   "metadata": {},
   "outputs": [],
   "source": [
    "import pandas as pd\n",
    "import numpy as np\n",
    "import fbprophet\n",
    "from fbprophet import Prophet\n",
    "\n",
    "import matplotlib.pyplot as plt\n",
    "%matplotlib inline"
   ]
  },
  {
   "cell_type": "code",
   "execution_count": 2,
   "id": "8c64c6e6",
   "metadata": {},
   "outputs": [
    {
     "data": {
      "text/html": [
       "<div>\n",
       "<style scoped>\n",
       "    .dataframe tbody tr th:only-of-type {\n",
       "        vertical-align: middle;\n",
       "    }\n",
       "\n",
       "    .dataframe tbody tr th {\n",
       "        vertical-align: top;\n",
       "    }\n",
       "\n",
       "    .dataframe thead th {\n",
       "        text-align: right;\n",
       "    }\n",
       "</style>\n",
       "<table border=\"1\" class=\"dataframe\">\n",
       "  <thead>\n",
       "    <tr style=\"text-align: right;\">\n",
       "      <th></th>\n",
       "      <th>SKU</th>\n",
       "      <th>Date</th>\n",
       "      <th>Sold_Qty</th>\n",
       "    </tr>\n",
       "  </thead>\n",
       "  <tbody>\n",
       "    <tr>\n",
       "      <th>0</th>\n",
       "      <td>2344134</td>\n",
       "      <td>2019-01-31</td>\n",
       "      <td>1</td>\n",
       "    </tr>\n",
       "    <tr>\n",
       "      <th>1</th>\n",
       "      <td>2344134</td>\n",
       "      <td>2019-02-28</td>\n",
       "      <td>6</td>\n",
       "    </tr>\n",
       "    <tr>\n",
       "      <th>2</th>\n",
       "      <td>2344134</td>\n",
       "      <td>2019-03-31</td>\n",
       "      <td>5</td>\n",
       "    </tr>\n",
       "    <tr>\n",
       "      <th>3</th>\n",
       "      <td>2344134</td>\n",
       "      <td>2019-04-30</td>\n",
       "      <td>12</td>\n",
       "    </tr>\n",
       "    <tr>\n",
       "      <th>4</th>\n",
       "      <td>2344134</td>\n",
       "      <td>2019-05-31</td>\n",
       "      <td>13</td>\n",
       "    </tr>\n",
       "    <tr>\n",
       "      <th>...</th>\n",
       "      <td>...</td>\n",
       "      <td>...</td>\n",
       "      <td>...</td>\n",
       "    </tr>\n",
       "    <tr>\n",
       "      <th>5419</th>\n",
       "      <td>3506780</td>\n",
       "      <td>2021-11-30</td>\n",
       "      <td>14</td>\n",
       "    </tr>\n",
       "    <tr>\n",
       "      <th>5420</th>\n",
       "      <td>3506780</td>\n",
       "      <td>2021-12-31</td>\n",
       "      <td>129</td>\n",
       "    </tr>\n",
       "    <tr>\n",
       "      <th>5421</th>\n",
       "      <td>3506780</td>\n",
       "      <td>2022-01-31</td>\n",
       "      <td>39</td>\n",
       "    </tr>\n",
       "    <tr>\n",
       "      <th>5422</th>\n",
       "      <td>3506780</td>\n",
       "      <td>2022-02-28</td>\n",
       "      <td>34</td>\n",
       "    </tr>\n",
       "    <tr>\n",
       "      <th>5423</th>\n",
       "      <td>3506780</td>\n",
       "      <td>2022-03-31</td>\n",
       "      <td>11</td>\n",
       "    </tr>\n",
       "  </tbody>\n",
       "</table>\n",
       "<p>5424 rows × 3 columns</p>\n",
       "</div>"
      ],
      "text/plain": [
       "          SKU        Date  Sold_Qty\n",
       "0     2344134  2019-01-31         1\n",
       "1     2344134  2019-02-28         6\n",
       "2     2344134  2019-03-31         5\n",
       "3     2344134  2019-04-30        12\n",
       "4     2344134  2019-05-31        13\n",
       "...       ...         ...       ...\n",
       "5419  3506780  2021-11-30        14\n",
       "5420  3506780  2021-12-31       129\n",
       "5421  3506780  2022-01-31        39\n",
       "5422  3506780  2022-02-28        34\n",
       "5423  3506780  2022-03-31        11\n",
       "\n",
       "[5424 rows x 3 columns]"
      ]
     },
     "execution_count": 2,
     "metadata": {},
     "output_type": "execute_result"
    }
   ],
   "source": [
    "df = pd.read_csv('C:/Users/vipin.singh/Downloads/fba100_monthly.csv')\n",
    "df"
   ]
  },
  {
   "cell_type": "code",
   "execution_count": null,
   "id": "b0378d2e",
   "metadata": {},
   "outputs": [],
   "source": [
    "df1 = df.rename(columns={'Date': 'ds','Sold_Qty': 'y', 'SKU': 'item'})\n",
    "\n",
    "prophet = Prophet()\n",
    "prophet.fit(df1)\n",
    "\n",
    "# create a future data frame \n",
    "future = prophet.make_future_dataframe(periods=25)\n",
    "forecast = prophet.predict(future)\n",
    "\n",
    "# display the most critical output columns from the forecast\n",
    "forecast[['ds','yhat','yhat_lower','yhat_upper']].head()\n",
    "\n",
    "# plot\n",
    "fig = prophet.plot(forecast)\n",
    "\n"
   ]
  },
  {
   "cell_type": "code",
   "execution_count": 3,
   "id": "6789197f",
   "metadata": {},
   "outputs": [],
   "source": [
    "def get_prediction(df):\n",
    "    prediction = {}\n",
    "    df1 = df.rename(columns={'Date': 'ds','Sold_Qty': 'y', 'SKU': 'item'})\n",
    "    list_items = df1.item.unique()\n",
    "    try:\n",
    "        for item in list_items:\n",
    "            item_df = df1.loc[df1['item'] == item]\n",
    "            # set the uncertainty interval to 95% (the Prophet default is 80%)\n",
    "            my_model = Prophet()\n",
    "            my_model.fit(item_df)\n",
    "            future_dates = my_model.make_future_dataframe(periods=12, freq='M')\n",
    "            forecast = my_model.predict(future_dates)\n",
    "            prediction[item] = pd.concat(prediction,forecast)\n",
    "            #forecast[['ds','yhat','yhat_lower','yhat_upper']].head()\n",
    "\n",
    "        return prediction\n",
    "    except:\n",
    "            print('hello')\n"
   ]
  },
  {
   "cell_type": "code",
   "execution_count": null,
   "id": "4a7070e9",
   "metadata": {},
   "outputs": [
    {
     "name": "stderr",
     "output_type": "stream",
     "text": [
      "INFO:fbprophet:Disabling weekly seasonality. Run prophet with weekly_seasonality=True to override this.\n",
      "INFO:fbprophet:Disabling daily seasonality. Run prophet with daily_seasonality=True to override this.\n",
      "C:\\Users\\vipin.singh\\Anaconda3\\lib\\site-packages\\fbprophet\\forecaster.py:891: FutureWarning: The frame.append method is deprecated and will be removed from pandas in a future version. Use pandas.concat instead.\n",
      "  components = components.append(new_comp)\n"
     ]
    },
    {
     "ename": "KeyError",
     "evalue": "'metric_file'",
     "output_type": "error",
     "traceback": [
      "\u001b[1;31m---------------------------------------------------------------------------\u001b[0m",
      "\u001b[1;31mKeyError\u001b[0m                                  Traceback (most recent call last)",
      "\u001b[1;31mKeyError\u001b[0m: 'metric_file'"
     ]
    },
    {
     "name": "stderr",
     "output_type": "stream",
     "text": [
      "Exception ignored in: 'stanfit4anon_model_f5236004a3fd5b8429270d00efcc0cf9_9045703871880297330._set_stanargs_from_dict'\n",
      "Traceback (most recent call last):\n",
      "  File \"C:\\Users\\vipin.singh\\Anaconda3\\lib\\site-packages\\pystan\\model.py\", line 550, in optimizing\n",
      "    ret, sample = fit._call_sampler(stan_args)\n",
      "KeyError: 'metric_file'\n"
     ]
    }
   ],
   "source": [
    "df2 = get_prediction(df)\n"
   ]
  },
  {
   "cell_type": "code",
   "execution_count": null,
   "id": "c366e8ca",
   "metadata": {},
   "outputs": [
    {
     "name": "stderr",
     "output_type": "stream",
     "text": [
      "INFO:fbprophet:Disabling weekly seasonality. Run prophet with weekly_seasonality=True to override this.\n",
      "INFO:fbprophet:Disabling daily seasonality. Run prophet with daily_seasonality=True to override this.\n",
      "C:\\Users\\vipin.singh\\Anaconda3\\lib\\site-packages\\fbprophet\\forecaster.py:891: FutureWarning: The frame.append method is deprecated and will be removed from pandas in a future version. Use pandas.concat instead.\n",
      "  components = components.append(new_comp)\n"
     ]
    },
    {
     "ename": "KeyError",
     "evalue": "'metric_file'",
     "output_type": "error",
     "traceback": [
      "\u001b[1;31m---------------------------------------------------------------------------\u001b[0m",
      "\u001b[1;31mKeyError\u001b[0m                                  Traceback (most recent call last)",
      "\u001b[1;31mKeyError\u001b[0m: 'metric_file'"
     ]
    },
    {
     "name": "stderr",
     "output_type": "stream",
     "text": [
      "Exception ignored in: 'stanfit4anon_model_f5236004a3fd5b8429270d00efcc0cf9_9045703871880297330._set_stanargs_from_dict'\n",
      "Traceback (most recent call last):\n",
      "  File \"C:\\Users\\vipin.singh\\Anaconda3\\lib\\site-packages\\pystan\\model.py\", line 550, in optimizing\n",
      "    ret, sample = fit._call_sampler(stan_args)\n",
      "KeyError: 'metric_file'\n"
     ]
    }
   ],
   "source": [
    "# Save predictions to dictionary\n",
    "df2 = get_prediction(df)\n",
    "#df3 = pd.DataFrame.from_dict(df3, index='columns)\n",
    "prophet = Prophet()\n",
    "prophet.fit(ts)\n",
    "\n",
    "# create a future data frame \n",
    "future = prophet.make_future_dataframe(periods=25)\n",
    "forecast = prophet.predict(future)\n",
    "\n",
    "# display the most critical output columns from the forecast\n",
    "forecast[['ds','yhat','yhat_lower','yhat_upper']].head()\n",
    "\n",
    "# plot\n",
    "fig = prophet.plot(forecast)\n",
    "\n",
    "# Convert dictionary\n",
    "    #df3 = pd.DataFrame.from_dict(df2, index='columns)\n",
    "    #print(df2)"
   ]
  },
  {
   "cell_type": "code",
   "execution_count": null,
   "id": "e0e541b4",
   "metadata": {},
   "outputs": [],
   "source": [
    "def flatten(dict_of_df):\n",
    "    # insert column 'item'\n",
    "    for key, value in dict_of_df.items():\n",
    "        value['item'] = key\n",
    "\n",
    "    # return vertically concatenated dataframe with all the items\n",
    "    return pd.concat(dict_of_df.values())\n"
   ]
  },
  {
   "cell_type": "code",
   "execution_count": null,
   "id": "a56906d1",
   "metadata": {},
   "outputs": [],
   "source": []
  },
  {
   "cell_type": "code",
   "execution_count": null,
   "id": "15b29bae",
   "metadata": {},
   "outputs": [],
   "source": []
  },
  {
   "cell_type": "code",
   "execution_count": null,
   "id": "9938cf8b",
   "metadata": {},
   "outputs": [],
   "source": []
  },
  {
   "cell_type": "code",
   "execution_count": null,
   "id": "d4fd1393",
   "metadata": {},
   "outputs": [],
   "source": []
  },
  {
   "cell_type": "code",
   "execution_count": null,
   "id": "7861644d",
   "metadata": {},
   "outputs": [],
   "source": []
  },
  {
   "cell_type": "code",
   "execution_count": null,
   "id": "5e40d851",
   "metadata": {},
   "outputs": [],
   "source": []
  },
  {
   "cell_type": "code",
   "execution_count": null,
   "id": "5b4df5fd",
   "metadata": {},
   "outputs": [],
   "source": []
  },
  {
   "cell_type": "code",
   "execution_count": null,
   "id": "e2e2fd37",
   "metadata": {},
   "outputs": [],
   "source": []
  },
  {
   "cell_type": "code",
   "execution_count": null,
   "id": "56b785ff",
   "metadata": {},
   "outputs": [],
   "source": []
  },
  {
   "cell_type": "code",
   "execution_count": 5,
   "id": "8f419179",
   "metadata": {},
   "outputs": [
    {
     "name": "stdout",
     "output_type": "stream",
     "text": [
      "a/b/c\n"
     ]
    }
   ],
   "source": [
    "print('a','b','c', sep = '/') # we can print with not only spaces but also any character using 'sep'"
   ]
  },
  {
   "cell_type": "code",
   "execution_count": 6,
   "id": "ee889195",
   "metadata": {},
   "outputs": [
    {
     "name": "stdout",
     "output_type": "stream",
     "text": [
      "Hello world\n"
     ]
    }
   ],
   "source": [
    "print('Hello', end = ' ')\n",
    "print('world')"
   ]
  },
  {
   "cell_type": "code",
   "execution_count": 7,
   "id": "e196145b",
   "metadata": {},
   "outputs": [
    {
     "name": "stdout",
     "output_type": "stream",
     "text": [
      "inf\n",
      "inf\n"
     ]
    }
   ],
   "source": [
    "# Datatypes\n",
    "# basic type - integer float complex boolean string\n",
    "# container type - list tuples sets dictionary\n",
    "# user defined - Class\n",
    "print(1e309)# interger and float range 10^308 \n",
    "print(1.7e309)"
   ]
  },
  {
   "cell_type": "code",
   "execution_count": 11,
   "id": "e2114269",
   "metadata": {},
   "outputs": [],
   "source": [
    "int(1e308)\n",
    "# dynamic typing - when you do not require declaration of datatype \n",
    "name = 'vipin'\n",
    "\n",
    "#dynamic binding - when variable store multiple data types\n",
    "name = 'a'\n",
    "name = 4 \n",
    "# static typing - when you require declaration of datatype\n",
    "# int a = 4;\n",
    "#"
   ]
  },
  {
   "cell_type": "code",
   "execution_count": 13,
   "id": "5924864a",
   "metadata": {},
   "outputs": [
    {
     "name": "stdout",
     "output_type": "stream",
     "text": [
      "['False', 'None', 'True', 'and', 'as', 'assert', 'async', 'await', 'break', 'class', 'continue', 'def', 'del', 'elif', 'else', 'except', 'finally', 'for', 'from', 'global', 'if', 'import', 'in', 'is', 'lambda', 'nonlocal', 'not', 'or', 'pass', 'raise', 'return', 'try', 'while', 'with', 'yield']\n"
     ]
    }
   ],
   "source": [
    "import keyword # 33 keywords\\\n",
    "print(keyword.kwlist)"
   ]
  },
  {
   "cell_type": "code",
   "execution_count": null,
   "id": "56430b65",
   "metadata": {},
   "outputs": [],
   "source": [
    "# literals - raw data given in a variable\n",
    "# types - Numeric, String, Boolean, Special\n",
    "a= 0b1010 # binary literals '0b' is a code\n",
    "b= 100 # decimal literal\n",
    "c= 0o310 # Octal Literal\n",
    "d = 0x12c # hexadecimal literal\n",
    "e= 3.14j # complex literals(e.imag,e.real)\n",
    "f = 1000.5 # float literals\n",
    "g = 1.5e-3 # 10^-3\n",
    "# we can not declare variable but we can write as\n",
    "# varibale declaration\n",
    "f= None\n",
    "g= 5//2 # integer devision\n",
    "\n",
    "\n",
    "\n",
    "# operator\n",
    "h = 2\n",
    "i = 3\n",
    "print(h and i) # result in true and false\n",
    "print(h & i)   # binary and operation between h and i after converting into decimal to binary 010 & 011---010\n",
    "# & - bitwise and operator \n",
    "# and - logical and oprator\n",
    "# h++ and ++h not valid in python\n",
    "h = h+3\n",
    "h += 3"
   ]
  },
  {
   "cell_type": "code",
   "execution_count": 6,
   "id": "7b6504f8",
   "metadata": {},
   "outputs": [
    {
     "name": "stdout",
     "output_type": "stream",
     "text": [
      "True\n",
      "False\n",
      "False\n"
     ]
    }
   ],
   "source": [
    "a = 3 \n",
    "b = 3\n",
    "print(a is b) # identical operator 'is' tells variables have same memory location or not . it does not depend upon the same value\n",
    "print(a is not b)\n",
    "c = 'Hello - world'\n",
    "d = 'Hello - world' # same value but still false so it deals in memory location\n",
    "print(c is d)\n",
    "\n",
    "e = [1,2,3]\n",
    "f = [4,5,6]\n",
    "print(e is f)\n",
    "\n",
    "# membership operator - 'in'\n",
    "\n",
    "x = (1,2,3)\n",
    "print(5 in x) # false"
   ]
  },
  {
   "cell_type": "code",
   "execution_count": null,
   "id": "958c8171",
   "metadata": {},
   "outputs": [],
   "source": []
  },
  {
   "cell_type": "code",
   "execution_count": null,
   "id": "b3919a03",
   "metadata": {},
   "outputs": [],
   "source": []
  },
  {
   "cell_type": "code",
   "execution_count": null,
   "id": "5c279a78",
   "metadata": {},
   "outputs": [],
   "source": []
  },
  {
   "cell_type": "code",
   "execution_count": null,
   "id": "1b61384a",
   "metadata": {},
   "outputs": [],
   "source": []
  },
  {
   "cell_type": "code",
   "execution_count": null,
   "id": "04e38f0a",
   "metadata": {},
   "outputs": [],
   "source": []
  },
  {
   "cell_type": "code",
   "execution_count": null,
   "id": "359f5fac",
   "metadata": {},
   "outputs": [],
   "source": []
  }
 ],
 "metadata": {
  "kernelspec": {
   "display_name": "Python 3",
   "language": "python",
   "name": "python3"
  },
  "language_info": {
   "codemirror_mode": {
    "name": "ipython",
    "version": 3
   },
   "file_extension": ".py",
   "mimetype": "text/x-python",
   "name": "python",
   "nbconvert_exporter": "python",
   "pygments_lexer": "ipython3",
   "version": "3.8.8"
  }
 },
 "nbformat": 4,
 "nbformat_minor": 5
}
